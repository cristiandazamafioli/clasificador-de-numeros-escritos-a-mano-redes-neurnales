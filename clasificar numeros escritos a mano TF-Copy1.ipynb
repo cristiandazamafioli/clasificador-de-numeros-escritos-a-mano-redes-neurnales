{
 "cells": [
  {
   "cell_type": "code",
   "execution_count": 16,
   "metadata": {},
   "outputs": [],
   "source": [
    "import tensorflow as tf # imortar libreria tensorflow\n",
    "from tensorflow.examples.tutorials.mnist import input_data # importar en set de datos de mnist"
   ]
  },
  {
   "cell_type": "code",
   "execution_count": 17,
   "metadata": {},
   "outputs": [
    {
     "name": "stdout",
     "output_type": "stream",
     "text": [
      "Extracting MNIST_data/train-images-idx3-ubyte.gz\n",
      "Extracting MNIST_data/train-labels-idx1-ubyte.gz\n",
      "Extracting MNIST_data/t10k-images-idx3-ubyte.gz\n",
      "Extracting MNIST_data/t10k-labels-idx1-ubyte.gz\n"
     ]
    }
   ],
   "source": [
    "mnist = input_data.read_data_sets(\"MNIST_data/\", one_hot=True) # a la variable se le pasa el set de datos"
   ]
  },
  {
   "cell_type": "code",
   "execution_count": 18,
   "metadata": {},
   "outputs": [
    {
     "name": "stdout",
     "output_type": "stream",
     "text": [
      "Datasets(train=<tensorflow.contrib.learn.python.learn.datasets.mnist.DataSet object at 0x0000019977F56630>, validation=<tensorflow.contrib.learn.python.learn.datasets.mnist.DataSet object at 0x0000019977F56588>, test=<tensorflow.contrib.learn.python.learn.datasets.mnist.DataSet object at 0x0000019977F56748>)\n"
     ]
    }
   ],
   "source": [
    "print (mnist) #muestra mist"
   ]
  },
  {
   "cell_type": "markdown",
   "metadata": {},
   "source": [
    "# Se empieza a construir la grafica computacional"
   ]
  },
  {
   "cell_type": "code",
   "execution_count": 19,
   "metadata": {},
   "outputs": [],
   "source": [
    "x=tf.placeholder(tf.float32,[None,784]) #imagen de numero decompuesto a un vector de 784 =28x28, el non quiere decir varibale\n",
    "P=tf.Variable(tf.zeros([784,10])) #matriz de pesos, 784 pixeles para recibir la imagen, 10 posibles salidas\n",
    "b=tf.Variable(tf.zeros([10])) # vector con bias o sesgo\n",
    "y=tf.matmul(x,P)+b  #la operacon que se hara en los nodos recibe entradas, matmul es multiplicacion entre matrices\n",
    "yR=tf.placeholder(tf.float32,[None,10]) # Matriz con las etiquetas reaes del set de datos"
   ]
  },
  {
   "cell_type": "code",
   "execution_count": 20,
   "metadata": {},
   "outputs": [],
   "source": [
    "#de aqui en adelante se va a entrenar el algoritmo\n",
    "#definir la  funcion de costo entropia cruzada (cross entropy)para poder medir el error. la salida sera softmax\n",
    "softmax = tf.nn.softmax_cross_entropy_with_logits(labels=yR,logits=y) #toma el vector de 10 elemntos para hace a prediccion en probailidades\n",
    "                        #softmax_cross_entropy.. mide el erroro de las predicciones\n",
    "costo=tf.reduce_mean(softmax) #funcion de costo, buscamos redicir el costo\n",
    "optimizador=tf.train.GradientDescentOptimizer(0.5).minimize(costo) #le decimos que minimice el costo ajustando los pesos en la matriz"
   ]
  },
  {
   "cell_type": "code",
   "execution_count": 21,
   "metadata": {},
   "outputs": [],
   "source": [
    "# correr la grafica computacional\n",
    "prediccion = tf.equal(tf.argmax(y, 1),tf.argmax(yR,1)) #nos da arreglo de booleanos para decirnos cuales estan bien y cuales no\n",
    "accuracy = tf.reduce_mean(tf.cast(prediccion, tf.float32))  # nos da el procentaje de certeza sobre el arreglo de prediccion\n",
    "produccion = tf.argmax(y,1)\n",
    "init = tf.global_variables_initializer()"
   ]
  },
  {
   "cell_type": "code",
   "execution_count": 22,
   "metadata": {},
   "outputs": [],
   "source": [
    "# Entrenar el algoritmo\n",
    "# Funcion que usaremos para ver el que tan bien va a aprendiendo nuestro modelo\n",
    "def avance(epoca_i, sess, last_features, last_labels):\n",
    "    costoActual = sess.run(costo,feed_dict= {x: last_features, yR:last_labels})\n",
    "    Certeza = sess.run(accuracy,feed_dict= {x:mnist.validation.images,yR: mnist.validation.labels})\n",
    "    print('Epoca: {:<4} - Costo: {:<8.3} Certeza: {:<5.3}'.format(epoca_i,costoActual,Certeza))"
   ]
  },
  {
   "cell_type": "code",
   "execution_count": 23,
   "metadata": {},
   "outputs": [
    {
     "name": "stdout",
     "output_type": "stream",
     "text": [
      "Epoca: 0    - Costo: 1.71     Certeza: 0.31 \n",
      "Epoca: 50   - Costo: 0.437    Certeza: 0.882\n",
      "Epoca: 100  - Costo: 0.447    Certeza: 0.89 \n",
      "Epoca: 150  - Costo: 0.413    Certeza: 0.901\n",
      "Epoca: 200  - Costo: 0.237    Certeza: 0.906\n",
      "Epoca: 250  - Costo: 0.252    Certeza: 0.906\n",
      "Epoca: 300  - Costo: 0.26     Certeza: 0.911\n",
      "Epoca: 350  - Costo: 0.318    Certeza: 0.911\n",
      "Epoca: 400  - Costo: 0.33     Certeza: 0.908\n",
      "Epoca: 450  - Costo: 0.396    Certeza: 0.914\n",
      "Epoca: 500  - Costo: 0.445    Certeza: 0.918\n",
      "Epoca: 550  - Costo: 0.184    Certeza: 0.92 \n",
      "Epoca: 600  - Costo: 0.377    Certeza: 0.918\n",
      "Epoca: 650  - Costo: 0.195    Certeza: 0.918\n",
      "Epoca: 700  - Costo: 0.226    Certeza: 0.919\n",
      "Epoca: 750  - Costo: 0.204    Certeza: 0.921\n",
      "Epoca: 800  - Costo: 0.25     Certeza: 0.92 \n",
      "Epoca: 850  - Costo: 0.339    Certeza: 0.918\n",
      "Epoca: 900  - Costo: 0.312    Certeza: 0.922\n",
      "Epoca: 950  - Costo: 0.287    Certeza: 0.921\n",
      "RESULTADO FINAL:  0.9162\n",
      "Resutado de una imagen [1]\n"
     ]
    }
   ],
   "source": [
    "# esta es la sesion donde realmente se entrena el algoritmo\n",
    "with tf.Session() as sess:\n",
    "    sess.run(init)\n",
    "    for epoca_i in range(1000):\n",
    "        lotex, lotey = mnist.train.next_batch(100) #se pasan lotes de 100 datos para no saturar\n",
    "        sess.run(optimizador, feed_dict={x: lotex, yR: lotey})\n",
    "        if (epoca_i%50==0):\n",
    "            avance(epoca_i,sess,lotex,lotey)\n",
    "    print('RESULTADO FINAL: ',sess.run(accuracy, feed_dict={x: mnist.test.images,yR: mnist.test.labels}))\n",
    "    print('Resutado de una imagen', sess.run(produccion, feed_dict = {x: mnist.test.images[5].reshape(1,784)}))"
   ]
  },
  {
   "cell_type": "code",
   "execution_count": 24,
   "metadata": {},
   "outputs": [
    {
     "data": {
      "text/plain": [
       "array([0., 0., 1., 0., 0., 0., 0., 0., 0., 0.])"
      ]
     },
     "execution_count": 24,
     "metadata": {},
     "output_type": "execute_result"
    }
   ],
   "source": [
    "mnist.test.labels[1]"
   ]
  },
  {
   "cell_type": "code",
   "execution_count": null,
   "metadata": {},
   "outputs": [],
   "source": []
  }
 ],
 "metadata": {
  "kernelspec": {
   "display_name": "Python 3",
   "language": "python",
   "name": "python3"
  },
  "language_info": {
   "codemirror_mode": {
    "name": "ipython",
    "version": 3
   },
   "file_extension": ".py",
   "mimetype": "text/x-python",
   "name": "python",
   "nbconvert_exporter": "python",
   "pygments_lexer": "ipython3",
   "version": "3.7.3"
  }
 },
 "nbformat": 4,
 "nbformat_minor": 2
}
