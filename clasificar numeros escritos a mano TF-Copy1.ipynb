{
 "cells": [
  {
   "cell_type": "code",
   "execution_count": 2,
   "metadata": {},
   "outputs": [],
   "source": [
    "import tensorflow as tf # imortar libreria tensorflow\n",
    "from tensorflow.examples.tutorials.mnist import input_data # importar en set de datos de mnist"
   ]
  },
  {
   "cell_type": "code",
   "execution_count": null,
   "metadata": {},
   "outputs": [],
   "source": [
    "mnist = input_data.read_data_sets(\"MNIST_data/\", one_hot=True) # a la variable se le pasa el set de datos"
   ]
  },
  {
   "cell_type": "code",
   "execution_count": 4,
   "metadata": {},
   "outputs": [],
   "source": [
    "x=tf.placeholder(tf.float32,[None,784]) #imagen de numero decompuesto a un vector\n",
    "P=tf.Variable(tf.zeros([784,10])) #matriz de pesos, 784 pixeles para recibir la imagen, 10 posibles salidas\n",
    "b=tf.Variable(tf.zeros([10])) # vector con vias o sesgo\n",
    "y=tf.matmul(x,P)+b  #la operacon que se hara en los nodos recibe entradas\n",
    "yR=tf.placeholder(tf.float32,[None,10]) # Matriz con las etiquetas reaes del set de datos"
   ]
  },
  {
   "cell_type": "markdown",
   "metadata": {},
   "source": [
    "# dfadfa"
   ]
  },
  {
   "cell_type": "code",
   "execution_count": 5,
   "metadata": {},
   "outputs": [
    {
     "name": "stderr",
     "output_type": "stream",
     "text": [
      "W0716 16:19:26.124910  7644 deprecation.py:323] From <ipython-input-5-845e916207bf>:2: softmax_cross_entropy_with_logits (from tensorflow.python.ops.nn_ops) is deprecated and will be removed in a future version.\n",
      "Instructions for updating:\n",
      "\n",
      "Future major versions of TensorFlow will allow gradients to flow\n",
      "into the labels input on backprop by default.\n",
      "\n",
      "See `tf.nn.softmax_cross_entropy_with_logits_v2`.\n",
      "\n"
     ]
    }
   ],
   "source": [
    "#de aquin en adelante se va a entrenar el algoritmo\n",
    "#definir la  funcion de costo entropia cruzada (cross entropy)para poder medir el error. la salida sera softmax\n",
    "softmax = tf.nn.softmax_cross_entropy_with_logits(labels=yR,logits=y) #toma el vector de 10 elemntos para hace a prediccion en probailidades\n",
    "                        #softmax_cross_entropy.. mide el erroro de las predicciones\n",
    "costo=tf.reduce_mean(softmax) #funcion de costo, buscamos redicir el costo\n",
    "optimizador=tf.train.GradientDescentOptimizer(0.5).minimize(costo) #le decimos que minimice el costo ajustando los pesos en la matriz"
   ]
  },
  {
   "cell_type": "code",
   "execution_count": 9,
   "metadata": {},
   "outputs": [],
   "source": [
    "# correr la grafica computacional\n",
    "prediccion = tf.equal(tf.argmax(y, 1),tf.argmax(yR,1)) #nos da arreglo de booleanos para decirnos cuales estan bien y cuales no\n",
    "accuracy = tf.reduce_mean(tf.cast(prediccion, tf.float32))  # nos da el procentaje de certeza sobre el arreglo de prediccion\n",
    "produccion = tf.argmax(y,1)\n",
    "init = tf.global_variables_initializer()"
   ]
  },
  {
   "cell_type": "code",
   "execution_count": 25,
   "metadata": {},
   "outputs": [],
   "source": [
    "# Entrenar el algoritmo\n",
    "# Funcion que usaremos para ver el que tan bien va a aprendiendo nuestro modelo\n",
    "def avance(epoca_i, sess, last_features, last_labels):\n",
    "    costoActual = sess.run(costo,feed_dict= {x: last_features, yR:last_labels})\n",
    "    Certeza = sess.run(accuracy,feed_dict= {x:mnist.validation.images,yR: mnist.validation.labels})\n",
    "    print('Epoca: {:<4} - Costo: {:<8.3} Certeza: {:<5.3}'.format(epoca_i,costoActual,Certeza))"
   ]
  },
  {
   "cell_type": "code",
   "execution_count": 28,
   "metadata": {},
   "outputs": [
    {
     "name": "stdout",
     "output_type": "stream",
     "text": [
      "Epoca: 0    - Costo: 1.71     Certeza: 0.26 \n",
      "Epoca: 50   - Costo: 0.409    Certeza: 0.879\n",
      "Epoca: 100  - Costo: 0.306    Certeza: 0.897\n",
      "Epoca: 150  - Costo: 0.255    Certeza: 0.898\n",
      "Epoca: 200  - Costo: 0.264    Certeza: 0.898\n",
      "Epoca: 250  - Costo: 0.216    Certeza: 0.908\n",
      "Epoca: 300  - Costo: 0.422    Certeza: 0.914\n",
      "Epoca: 350  - Costo: 0.326    Certeza: 0.916\n",
      "Epoca: 400  - Costo: 0.227    Certeza: 0.914\n",
      "Epoca: 450  - Costo: 0.294    Certeza: 0.917\n",
      "Epoca: 500  - Costo: 0.307    Certeza: 0.916\n",
      "Epoca: 550  - Costo: 0.246    Certeza: 0.917\n",
      "Epoca: 600  - Costo: 0.368    Certeza: 0.916\n",
      "Epoca: 650  - Costo: 0.232    Certeza: 0.918\n",
      "Epoca: 700  - Costo: 0.149    Certeza: 0.918\n",
      "Epoca: 750  - Costo: 0.134    Certeza: 0.918\n",
      "Epoca: 800  - Costo: 0.418    Certeza: 0.917\n",
      "Epoca: 850  - Costo: 0.422    Certeza: 0.923\n",
      "Epoca: 900  - Costo: 0.207    Certeza: 0.917\n",
      "Epoca: 950  - Costo: 0.253    Certeza: 0.922\n",
      "RESULTADO FINAL:  0.9121\n",
      "Resutado de una imagen [1]\n"
     ]
    }
   ],
   "source": [
    "# esta es la sesion donde realmente se entrena el algoritmo\n",
    "with tf.Session() as sess:\n",
    "    sess.run(init)\n",
    "    for epoca_i in range(1000):\n",
    "        lotex, lotey = mnist.train.next_batch(100)\n",
    "        sess.run(optimizador, feed_dict={x: lotex, yR: lotey})\n",
    "        if (epoca_i%50==0):\n",
    "            avance(epoca_i,sess,lotex,lotey)\n",
    "    print('RESULTADO FINAL: ',sess.run(accuracy, feed_dict={x: mnist.test.images,yR: mnist.test.labels}))\n",
    "    print('Resutado de una imagen', sess.run(produccion, feed_dict = {x: mnist.test.images[5].reshape(1,784)}))"
   ]
  },
  {
   "cell_type": "code",
   "execution_count": 1,
   "metadata": {},
   "outputs": [
    {
     "ename": "NameError",
     "evalue": "name 'mnist' is not defined",
     "output_type": "error",
     "traceback": [
      "\u001b[1;31m---------------------------------------------------------------------------\u001b[0m",
      "\u001b[1;31mNameError\u001b[0m                                 Traceback (most recent call last)",
      "\u001b[1;32m<ipython-input-1-7aec65623009>\u001b[0m in \u001b[0;36m<module>\u001b[1;34m\u001b[0m\n\u001b[1;32m----> 1\u001b[1;33m \u001b[0mmnist\u001b[0m\u001b[1;33m.\u001b[0m\u001b[0mtest\u001b[0m\u001b[1;33m.\u001b[0m\u001b[0mlabels\u001b[0m\u001b[1;33m[\u001b[0m\u001b[1;36m1\u001b[0m\u001b[1;33m]\u001b[0m\u001b[1;33m\u001b[0m\u001b[1;33m\u001b[0m\u001b[0m\n\u001b[0m",
      "\u001b[1;31mNameError\u001b[0m: name 'mnist' is not defined"
     ]
    }
   ],
   "source": [
    "mnist.test.labels[1]"
   ]
  },
  {
   "cell_type": "code",
   "execution_count": null,
   "metadata": {},
   "outputs": [],
   "source": []
  }
 ],
 "metadata": {
  "kernelspec": {
   "display_name": "Python 3",
   "language": "python",
   "name": "python3"
  },
  "language_info": {
   "codemirror_mode": {
    "name": "ipython",
    "version": 3
   },
   "file_extension": ".py",
   "mimetype": "text/x-python",
   "name": "python",
   "nbconvert_exporter": "python",
   "pygments_lexer": "ipython3",
   "version": "3.7.3"
  }
 },
 "nbformat": 4,
 "nbformat_minor": 2
}
